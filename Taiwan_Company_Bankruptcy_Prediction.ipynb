{
  "cells": [
    {
      "cell_type": "markdown",
      "metadata": {
        "id": "BvnPgaFOqncr"
      },
      "source": [
        "# Taiwan Company Bankruptcy Prediction\n",
        "\n",
        "## 1. Introduction\n",
        "\n",
        "Data from the Taiwan Economic Journal for the years 1999–2009 representing company bankruptcy based on the business regulations of the Taiwan Stock Exchange.\n",
        "\n",
        "### Source\n",
        "\n",
        "Deron Liang and Chih-Fong Tsai, deronliang '@' gmail.com; cftsai '@' mgt.ncu.edu.tw, National Central University, Taiwan\n",
        "The data was obtained from UCI Machine Learning Repository: https://archive.ics.uci.edu/ml/datasets/Taiwanese+Bankruptcy+Prediction\n",
        "\n",
        "### Relevant Papers\n",
        "\n",
        "Liang, D., Lu, C.-C., Tsai, C.-F., and Shih, G.-A. (2016) Financial Ratios and Corporate Governance Indicators in Bankruptcy Prediction: A Comprehensive Study. European Journal of Operational Research, vol. 252, no. 2, pp. 561-572.\n",
        "https://www.sciencedirect.com/science/article/pii/S0377221716000412"
      ]
    },
    {
      "cell_type": "markdown",
      "metadata": {
        "id": "PnOPgS0brGwn"
      },
      "source": [
        "## 2. Technical Setup\n",
        "\n",
        "### 2.1 Matplot lib\n",
        "\n",
        "This section will include the provided theme and configuration for `matplotlib` provided for the course at http://web.ist.utl.pt/~claudia.antunes/DSLabs/config.py "
      ]
    },
    {
      "cell_type": "code",
      "execution_count": null,
      "metadata": {
        "id": "udxAeRNEprD6"
      },
      "outputs": [],
      "source": [
        "import config\n",
        "import pandas as pd\n",
        "from numpy import log\n",
        "from pandas.plotting import register_matplotlib_converters\n",
        "from matplotlib.pyplot import figure, savefig, show, show, subplots, Axes\n",
        "from ds_charts import bar_chart, get_variable_types, choose_grid, HEIGHT, multiple_line_chart\n",
        "from pandas import DataFrame, Series    \n",
        "from seaborn import distplot\n",
        "from scipy.stats import norm, expon, lognorm\n",
        "\n",
        "register_matplotlib_converters()"
      ]
    },
    {
      "cell_type": "markdown",
      "metadata": {
        "id": "61d1HqQ1t2u1"
      },
      "source": [
        "### 2.2 Loading data with `Pandas`"
      ]
    },
    {
      "cell_type": "code",
      "execution_count": null,
      "metadata": {
        "colab": {
          "base_uri": "https://localhost:8080/",
          "height": 475
        },
        "id": "_6-Djbnzt8hK",
        "outputId": "72b10ecd-0b6b-48bc-d80a-bd4c13ede3ca"
      },
      "outputs": [],
      "source": [
        "missing_values = [\"NA\", \"n/a\", \"na\", \"?\", \"--\"]\n",
        "data = pd.read_csv('./data/taiwan.csv', sep=',', decimal='.', parse_dates=True, infer_datetime_format=True, na_values = missing_values)\n",
        "data.describe()"
      ]
    },
    {
      "cell_type": "markdown",
      "metadata": {},
      "source": [
        "## 3 Data Profiling\n",
        "\n",
        "TODO: We must gather some insights about the dataset we have\n",
        "\n",
        "### 3.1 Data dimensionality\n",
        "\n",
        "Simple analysis of the data dimensionality and types of variables we have on this dataset."
      ]
    },
    {
      "cell_type": "code",
      "execution_count": null,
      "metadata": {},
      "outputs": [],
      "source": [
        "figure(figsize=(4,2))\n",
        "values = {'# records': data.shape[0], '# variables': data.shape[1]}\n",
        "bar_chart(list(values.keys()), list(values.values()), title='# of records vs # variables')\n",
        "savefig('./images/records_variables.png')\n",
        "show()"
      ]
    },
    {
      "cell_type": "markdown",
      "metadata": {},
      "source": [
        "#### 3.1.1 Variable types\n",
        "\n",
        "Inferring about the nature of the variables we have on our dataset."
      ]
    },
    {
      "cell_type": "code",
      "execution_count": null,
      "metadata": {},
      "outputs": [],
      "source": [
        "data.dtypes"
      ]
    },
    {
      "cell_type": "code",
      "execution_count": null,
      "metadata": {},
      "outputs": [],
      "source": [
        "def get_variable_types(df: DataFrame) -> dict:\n",
        "    variable_types: dict = {\n",
        "        'Numeric': [],\n",
        "        'Binary': [],\n",
        "        'Date': [],\n",
        "        'Symbolic': []\n",
        "    }\n",
        "    for c in df.columns:\n",
        "        uniques = df[c].dropna(inplace=False).unique()\n",
        "        if len(uniques) == 2:\n",
        "            variable_types['Binary'].append(c)\n",
        "            df[c].astype('bool')\n",
        "        elif df[c].dtype == 'datetime64':\n",
        "            variable_types['Date'].append(c)\n",
        "        elif df[c].dtype == 'int':\n",
        "            variable_types['Numeric'].append(c)\n",
        "        elif df[c].dtype == 'float':\n",
        "            variable_types['Numeric'].append(c)\n",
        "        else:\n",
        "            df[c].astype('category')\n",
        "            variable_types['Symbolic'].append(c)\n",
        "\n",
        "    return variable_types\n",
        "\n",
        "variable_types = get_variable_types(data)\n",
        "print(variable_types)\n",
        "counts = {}\n",
        "for tp in variable_types.keys():\n",
        "    counts[tp] = len(variable_types[tp])\n",
        "figure(figsize=(4,2))\n",
        "bar_chart(list(counts.keys()), list(counts.values()), title='Nr of variables per type')\n",
        "savefig('./images/variable_types.png')\n",
        "show()\n",
        "    "
      ]
    },
    {
      "cell_type": "markdown",
      "metadata": {},
      "source": [
        "#### 3.1.2 Missing values\n",
        "\n",
        "Simple analysis of the missing values."
      ]
    },
    {
      "cell_type": "code",
      "execution_count": null,
      "metadata": {},
      "outputs": [],
      "source": [
        "mv = {}\n",
        "for var in data:\n",
        "    nr = data[var].isnull().sum()\n",
        "    if nr > 0:\n",
        "        print(f'[!] Found {nr} missing values in {var}')\n",
        "        mv[var] = nr\n",
        "\n",
        "if mv == {}:\n",
        "    print(\"No missing values found in dataset.\")"
      ]
    },
    {
      "cell_type": "markdown",
      "metadata": {},
      "source": [
        "### 3.2 Data distribution\n",
        "\n",
        "Simple analysis of the data distribution.\n"
      ]
    },
    {
      "cell_type": "code",
      "execution_count": null,
      "metadata": {},
      "outputs": [],
      "source": [
        "numeric_vars = get_variable_types(data)['Numeric']\n",
        "if [] == numeric_vars:\n",
        "    raise ValueError('There are no numeric variables.')\n",
        "rows, cols = choose_grid(len(numeric_vars))\n",
        "fig, axs = subplots(rows, cols, figsize=(cols*HEIGHT, rows*HEIGHT), squeeze=False)\n",
        "i, j = 0, 0\n",
        "for n in range(len(numeric_vars)):\n",
        "    axs[i, j].set_title('Boxplot for %s'%numeric_vars[n])\n",
        "    axs[i, j].boxplot(data[numeric_vars[n]].dropna().values)\n",
        "    i, j = (i + 1, 0) if (n+1) % cols == 0 else (i, j + 1)\n",
        "savefig('images/single_boxplots.png')\n",
        "show()"
      ]
    },
    {
      "cell_type": "markdown",
      "metadata": {},
      "source": [
        "Outliers using both the IQR and stdev critteria:\n"
      ]
    },
    {
      "cell_type": "code",
      "execution_count": null,
      "metadata": {},
      "outputs": [],
      "source": [
        "from matplotlib.pyplot import figure, savefig, show\n",
        "from ds_charts import get_variable_types, multiple_bar_chart, HEIGHT\n",
        "\n",
        "NR_STDEV: int = 2\n",
        "\n",
        "numeric_vars = get_variable_types(data)['Numeric']\n",
        "if [] == numeric_vars:\n",
        "    raise ValueError('There are no numeric variables.')\n",
        "\n",
        "outliers_iqr = []\n",
        "outliers_stdev = []\n",
        "summary5 = data.describe(include='number')\n",
        "\n",
        "for var in numeric_vars:\n",
        "    iqr = 1.5 * (summary5[var]['75%'] - summary5[var]['25%'])\n",
        "    outliers_iqr += [\n",
        "        data[data[var] > summary5[var]['75%']  + iqr].count()[var] +\n",
        "        data[data[var] < summary5[var]['25%']  - iqr].count()[var]]\n",
        "    std = NR_STDEV * summary5[var]['std']\n",
        "    outliers_stdev += [\n",
        "        data[data[var] > summary5[var]['mean'] + std].count()[var] +\n",
        "        data[data[var] < summary5[var]['mean'] - std].count()[var]]\n",
        "\n",
        "outliers = {'iqr': outliers_iqr, 'stdev': outliers_stdev}\n",
        "\n",
        "rows, cols = choose_grid(len(numeric_vars))\n",
        "fig, axs = subplots(rows, cols, figsize=(cols*HEIGHT, rows*HEIGHT), squeeze=False)\n",
        "i, j = 0, 0\n",
        "width = 0.3\n",
        "for n in range(len(numeric_vars)):\n",
        "    current_outliers = {'iqr': outliers['iqr'][n], 'stdev': outliers['stdev'][n]}\n",
        "    axs[i, j].set_title('Outliers for %s'%numeric_vars[n])\n",
        "    axs[i, j].bar(1 + width/2, outliers['iqr'][n], width, label='iqr')\n",
        "    axs[i, j].bar(1 - width/2, outliers['stdev'][n], width, label='stdev')\n",
        "    axs[i, j].legend()\n",
        "    i, j = (i + 1, 0) if (n+1) % cols == 0 else (i, j + 1)\n",
        "savefig('images/single_outliers.png')\n",
        "show()\n",
        "\n"
      ]
    },
    {
      "cell_type": "markdown",
      "metadata": {},
      "source": [
        "Finding the matching possible distribution"
      ]
    },
    {
      "cell_type": "code",
      "execution_count": null,
      "metadata": {},
      "outputs": [],
      "source": [
        "numeric_vars = get_variable_types(data)['Numeric']\n",
        "if [] == numeric_vars:\n",
        "    raise ValueError('There are no numeric variables.')\n",
        "\n",
        "fig, axs = subplots(rows, cols, figsize=(cols*HEIGHT, rows*HEIGHT), squeeze=False)\n",
        "i, j = 0, 0\n",
        "for n in range(len(numeric_vars)):\n",
        "    axs[i, j].set_title('Histogram with trend for %s'%numeric_vars[n])\n",
        "    distplot(data[numeric_vars[n]].dropna().values, norm_hist=True, ax=axs[i, j], axlabel=numeric_vars[n])\n",
        "    i, j = (i + 1, 0) if (n+1) % cols == 0 else (i, j + 1)\n",
        "savefig('images/histograms_trend_numeric.png')\n",
        "show()"
      ]
    },
    {
      "cell_type": "markdown",
      "metadata": {},
      "source": [
        "Let us try as well to match well known distributions"
      ]
    },
    {
      "cell_type": "code",
      "execution_count": null,
      "metadata": {},
      "outputs": [],
      "source": [
        "def compute_known_distributions(x_values: list) -> dict:\n",
        "    distributions = dict()\n",
        "    # Gaussian\n",
        "    mean, sigma = norm.fit(x_values)\n",
        "    distributions['Normal(%.1f,%.2f)'%(mean,sigma)] = norm.pdf(x_values, mean, sigma)\n",
        "    # Exponential\n",
        "    loc, scale = expon.fit(x_values)\n",
        "    distributions['Exp(%.2f)'%(1/scale)] = expon.pdf(x_values, loc, scale)\n",
        "    # LogNorm\n",
        "    sigma, loc, scale = lognorm.fit(x_values)\n",
        "    distributions['LogNor(%.1f,%.2f)'%(log(scale),sigma)] = lognorm.pdf(x_values, sigma, loc, scale)\n",
        "    return distributions\n",
        "\n",
        "def histogram_with_distributions(ax: Axes, series: Series, var: str):\n",
        "    values = series.sort_values().values\n",
        "    ax.hist(values, 20, density=True)\n",
        "    distributions = compute_known_distributions(values)\n",
        "    multiple_line_chart(values, distributions, ax=ax, title='Best fit for %s'%var, xlabel=var, ylabel='')\n",
        "\n",
        "numeric_vars = get_variable_types(data)['Numeric']\n",
        "if [] == numeric_vars:\n",
        "    raise ValueError('There are no numeric variables.')\n",
        "\n",
        "\n",
        "#fig, axs = subplots(rows, cols, figsize=(cols*HEIGHT, rows*HEIGHT), squeeze=False)\n",
        "#i, j = 0, 0\n",
        "#for n in range(len(numeric_vars)):\n",
        "#    histogram_with_distributions(axs[i, j], data[numeric_vars[n]].dropna(), numeric_vars[n])\n",
        "#    i, j = (i + 1, 0) if (n+1) % cols == 0 else (i, j + 1)\n",
        "#savefig('images/histogram_numeric_distribution.png')\n",
        "#show()"
      ]
    },
    {
      "cell_type": "markdown",
      "metadata": {},
      "source": [
        "### 3.3 Symbolic Values"
      ]
    },
    {
      "cell_type": "code",
      "execution_count": 13,
      "metadata": {},
      "outputs": [
        {
          "name": "stdout",
          "output_type": "stream",
          "text": [
            "There are no symbolic variables.\n"
          ]
        },
        {
          "ename": "ValueError",
          "evalue": "Number of columns must be a positive integer, not 0",
          "output_type": "error",
          "traceback": [
            "\u001b[0;31m---------------------------------------------------------------------------\u001b[0m",
            "\u001b[0;31mValueError\u001b[0m                                Traceback (most recent call last)",
            "Cell \u001b[0;32mIn [13], line 7\u001b[0m\n\u001b[1;32m      4\u001b[0m     exit\n\u001b[1;32m      6\u001b[0m rows, cols \u001b[38;5;241m=\u001b[39m choose_grid(\u001b[38;5;28mlen\u001b[39m(symbolic_vars))\n\u001b[0;32m----> 7\u001b[0m fig, axs \u001b[38;5;241m=\u001b[39m \u001b[43msubplots\u001b[49m\u001b[43m(\u001b[49m\u001b[43mrows\u001b[49m\u001b[43m,\u001b[49m\u001b[43m \u001b[49m\u001b[43mcols\u001b[49m\u001b[43m,\u001b[49m\u001b[43m \u001b[49m\u001b[43mfigsize\u001b[49m\u001b[38;5;241;43m=\u001b[39;49m\u001b[43m(\u001b[49m\u001b[43mcols\u001b[49m\u001b[38;5;241;43m*\u001b[39;49m\u001b[43mHEIGHT\u001b[49m\u001b[43m,\u001b[49m\u001b[43m \u001b[49m\u001b[43mrows\u001b[49m\u001b[38;5;241;43m*\u001b[39;49m\u001b[43mHEIGHT\u001b[49m\u001b[43m)\u001b[49m\u001b[43m,\u001b[49m\u001b[43m \u001b[49m\u001b[43msqueeze\u001b[49m\u001b[38;5;241;43m=\u001b[39;49m\u001b[38;5;28;43;01mFalse\u001b[39;49;00m\u001b[43m)\u001b[49m\n\u001b[1;32m      8\u001b[0m i, j \u001b[38;5;241m=\u001b[39m \u001b[38;5;241m0\u001b[39m, \u001b[38;5;241m0\u001b[39m\n\u001b[1;32m      9\u001b[0m \u001b[38;5;28;01mfor\u001b[39;00m n \u001b[38;5;129;01min\u001b[39;00m \u001b[38;5;28mrange\u001b[39m(\u001b[38;5;28mlen\u001b[39m(symbolic_vars)):\n",
            "File \u001b[0;32m~/.pyenv/versions/3.10.6/lib/python3.10/site-packages/matplotlib/pyplot.py:1435\u001b[0m, in \u001b[0;36msubplots\u001b[0;34m(nrows, ncols, sharex, sharey, squeeze, subplot_kw, gridspec_kw, **fig_kw)\u001b[0m\n\u001b[1;32m   1302\u001b[0m \u001b[39m\"\"\"\u001b[39;00m\n\u001b[1;32m   1303\u001b[0m \u001b[39mCreate a figure and a set of subplots.\u001b[39;00m\n\u001b[1;32m   1304\u001b[0m \n\u001b[0;32m   (...)\u001b[0m\n\u001b[1;32m   1432\u001b[0m \n\u001b[1;32m   1433\u001b[0m \u001b[39m\"\"\"\u001b[39;00m\n\u001b[1;32m   1434\u001b[0m fig \u001b[39m=\u001b[39m figure(\u001b[39m*\u001b[39m\u001b[39m*\u001b[39mfig_kw)\n\u001b[0;32m-> 1435\u001b[0m axs \u001b[39m=\u001b[39m fig\u001b[39m.\u001b[39;49msubplots(nrows\u001b[39m=\u001b[39;49mnrows, ncols\u001b[39m=\u001b[39;49mncols, sharex\u001b[39m=\u001b[39;49msharex, sharey\u001b[39m=\u001b[39;49msharey,\n\u001b[1;32m   1436\u001b[0m                    squeeze\u001b[39m=\u001b[39;49msqueeze, subplot_kw\u001b[39m=\u001b[39;49msubplot_kw,\n\u001b[1;32m   1437\u001b[0m                    gridspec_kw\u001b[39m=\u001b[39;49mgridspec_kw)\n\u001b[1;32m   1438\u001b[0m \u001b[39mreturn\u001b[39;00m fig, axs\n",
            "File \u001b[0;32m~/.pyenv/versions/3.10.6/lib/python3.10/site-packages/matplotlib/figure.py:896\u001b[0m, in \u001b[0;36mFigureBase.subplots\u001b[0;34m(self, nrows, ncols, sharex, sharey, squeeze, subplot_kw, gridspec_kw)\u001b[0m\n\u001b[1;32m    894\u001b[0m \u001b[39mif\u001b[39;00m gridspec_kw \u001b[39mis\u001b[39;00m \u001b[39mNone\u001b[39;00m:\n\u001b[1;32m    895\u001b[0m     gridspec_kw \u001b[39m=\u001b[39m {}\n\u001b[0;32m--> 896\u001b[0m gs \u001b[39m=\u001b[39m \u001b[39mself\u001b[39;49m\u001b[39m.\u001b[39;49madd_gridspec(nrows, ncols, figure\u001b[39m=\u001b[39;49m\u001b[39mself\u001b[39;49m, \u001b[39m*\u001b[39;49m\u001b[39m*\u001b[39;49mgridspec_kw)\n\u001b[1;32m    897\u001b[0m axs \u001b[39m=\u001b[39m gs\u001b[39m.\u001b[39msubplots(sharex\u001b[39m=\u001b[39msharex, sharey\u001b[39m=\u001b[39msharey, squeeze\u001b[39m=\u001b[39msqueeze,\n\u001b[1;32m    898\u001b[0m                   subplot_kw\u001b[39m=\u001b[39msubplot_kw)\n\u001b[1;32m    899\u001b[0m \u001b[39mreturn\u001b[39;00m axs\n",
            "File \u001b[0;32m~/.pyenv/versions/3.10.6/lib/python3.10/site-packages/matplotlib/figure.py:1391\u001b[0m, in \u001b[0;36mFigureBase.add_gridspec\u001b[0;34m(self, nrows, ncols, **kwargs)\u001b[0m\n\u001b[1;32m   1352\u001b[0m \u001b[39m\"\"\"\u001b[39;00m\n\u001b[1;32m   1353\u001b[0m \u001b[39mReturn a `.GridSpec` that has this figure as a parent.  This allows\u001b[39;00m\n\u001b[1;32m   1354\u001b[0m \u001b[39mcomplex layout of Axes in the figure.\u001b[39;00m\n\u001b[0;32m   (...)\u001b[0m\n\u001b[1;32m   1387\u001b[0m \n\u001b[1;32m   1388\u001b[0m \u001b[39m\"\"\"\u001b[39;00m\n\u001b[1;32m   1390\u001b[0m _ \u001b[39m=\u001b[39m kwargs\u001b[39m.\u001b[39mpop(\u001b[39m'\u001b[39m\u001b[39mfigure\u001b[39m\u001b[39m'\u001b[39m, \u001b[39mNone\u001b[39;00m)  \u001b[39m# pop in case user has added this...\u001b[39;00m\n\u001b[0;32m-> 1391\u001b[0m gs \u001b[39m=\u001b[39m GridSpec(nrows\u001b[39m=\u001b[39;49mnrows, ncols\u001b[39m=\u001b[39;49mncols, figure\u001b[39m=\u001b[39;49m\u001b[39mself\u001b[39;49m, \u001b[39m*\u001b[39;49m\u001b[39m*\u001b[39;49mkwargs)\n\u001b[1;32m   1392\u001b[0m \u001b[39mself\u001b[39m\u001b[39m.\u001b[39m_gridspecs\u001b[39m.\u001b[39mappend(gs)\n\u001b[1;32m   1393\u001b[0m \u001b[39mreturn\u001b[39;00m gs\n",
            "File \u001b[0;32m~/.pyenv/versions/3.10.6/lib/python3.10/site-packages/matplotlib/gridspec.py:383\u001b[0m, in \u001b[0;36mGridSpec.__init__\u001b[0;34m(self, nrows, ncols, figure, left, bottom, right, top, wspace, hspace, width_ratios, height_ratios)\u001b[0m\n\u001b[1;32m    380\u001b[0m \u001b[39mself\u001b[39m\u001b[39m.\u001b[39mhspace \u001b[39m=\u001b[39m hspace\n\u001b[1;32m    381\u001b[0m \u001b[39mself\u001b[39m\u001b[39m.\u001b[39mfigure \u001b[39m=\u001b[39m figure\n\u001b[0;32m--> 383\u001b[0m \u001b[39msuper\u001b[39;49m()\u001b[39m.\u001b[39;49m\u001b[39m__init__\u001b[39;49m(nrows, ncols,\n\u001b[1;32m    384\u001b[0m                  width_ratios\u001b[39m=\u001b[39;49mwidth_ratios,\n\u001b[1;32m    385\u001b[0m                  height_ratios\u001b[39m=\u001b[39;49mheight_ratios)\n",
            "File \u001b[0;32m~/.pyenv/versions/3.10.6/lib/python3.10/site-packages/matplotlib/gridspec.py:50\u001b[0m, in \u001b[0;36mGridSpecBase.__init__\u001b[0;34m(self, nrows, ncols, height_ratios, width_ratios)\u001b[0m\n\u001b[1;32m     47\u001b[0m     \u001b[39mraise\u001b[39;00m \u001b[39mValueError\u001b[39;00m(\n\u001b[1;32m     48\u001b[0m         \u001b[39mf\u001b[39m\u001b[39m\"\u001b[39m\u001b[39mNumber of rows must be a positive integer, not \u001b[39m\u001b[39m{\u001b[39;00mnrows\u001b[39m!r}\u001b[39;00m\u001b[39m\"\u001b[39m)\n\u001b[1;32m     49\u001b[0m \u001b[39mif\u001b[39;00m \u001b[39mnot\u001b[39;00m \u001b[39misinstance\u001b[39m(ncols, Integral) \u001b[39mor\u001b[39;00m ncols \u001b[39m<\u001b[39m\u001b[39m=\u001b[39m \u001b[39m0\u001b[39m:\n\u001b[0;32m---> 50\u001b[0m     \u001b[39mraise\u001b[39;00m \u001b[39mValueError\u001b[39;00m(\n\u001b[1;32m     51\u001b[0m         \u001b[39mf\u001b[39m\u001b[39m\"\u001b[39m\u001b[39mNumber of columns must be a positive integer, not \u001b[39m\u001b[39m{\u001b[39;00mncols\u001b[39m!r}\u001b[39;00m\u001b[39m\"\u001b[39m)\n\u001b[1;32m     52\u001b[0m \u001b[39mself\u001b[39m\u001b[39m.\u001b[39m_nrows, \u001b[39mself\u001b[39m\u001b[39m.\u001b[39m_ncols \u001b[39m=\u001b[39m nrows, ncols\n\u001b[1;32m     53\u001b[0m \u001b[39mself\u001b[39m\u001b[39m.\u001b[39mset_height_ratios(height_ratios)\n",
            "\u001b[0;31mValueError\u001b[0m: Number of columns must be a positive integer, not 0"
          ]
        },
        {
          "data": {
            "text/plain": [
              "<Figure size 0x600 with 0 Axes>"
            ]
          },
          "metadata": {},
          "output_type": "display_data"
        }
      ],
      "source": [
        "symbolic_vars = get_variable_types(data)['Symbolic']\n",
        "if [] == symbolic_vars:\n",
        "    print('There are no symbolic variables.')\n",
        "else:\n",
        "    rows, cols = choose_grid(len(symbolic_vars))\n",
        "    fig, axs = subplots(rows, cols, figsize=(cols*HEIGHT, rows*HEIGHT), squeeze=False)\n",
        "    i, j = 0, 0\n",
        "    for n in range(len(symbolic_vars)):\n",
        "        counts = data[symbolic_vars[n]].value_counts()\n",
        "        bar_chart(counts.index.to_list(), counts.values, ax=axs[i, j], title='Histogram for %s'%symbolic_vars[n], xlabel=symbolic_vars[n], ylabel='nr records', percentage=False)\n",
        "        i, j = (i + 1, 0) if (n+1) % cols == 0 else (i, j + 1)\n",
        "    savefig('images/histograms_symbolic.png')\n",
        "    show()"
      ]
    }
  ],
  "metadata": {
    "colab": {
      "collapsed_sections": [],
      "provenance": []
    },
    "kernelspec": {
      "display_name": "Python 3.10.6 64-bit ('3.10.6')",
      "language": "python",
      "name": "python3"
    },
    "language_info": {
      "codemirror_mode": {
        "name": "ipython",
        "version": 3
      },
      "file_extension": ".py",
      "mimetype": "text/x-python",
      "name": "python",
      "nbconvert_exporter": "python",
      "pygments_lexer": "ipython3",
      "version": "3.10.6"
    },
    "vscode": {
      "interpreter": {
        "hash": "dbcd1a44e2bf0ba6d9be0fb085eee07b3769b33537be822e78705cc8cfb70d6a"
      }
    }
  },
  "nbformat": 4,
  "nbformat_minor": 0
}
